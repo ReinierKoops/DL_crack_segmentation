{
  "cells": [
    {
      "cell_type": "markdown",
      "source": "# Reproduce DL\n## Automated Pavement Crack Segmentation",
      "metadata": {
        "tags": [],
        "cell_id": "00000-82d331e0-79e4-40f0-ba43-0ad2ccc7fea5",
        "deepnote_cell_type": "markdown"
      }
    },
    {
      "cell_type": "code",
      "metadata": {
        "tags": [],
        "cell_id": "00002-da764467-46fa-4b0b-8c70-b51631d8659f",
        "deepnote_to_be_reexecuted": false,
        "source_hash": "92670707",
        "execution_millis": 3296,
        "execution_start": 1616663881853,
        "deepnote_cell_type": "code"
      },
      "source": "import torch\nimport torch.nn as nn\nimport torch.nn.functional as F\nimport torchvision.models as models\nfrom torchsummary import summary\n\n# Use pretrained model, extend with U-architecture &  SCSE\npre_orig_model = models.resnet34(pretrained=True)\npre_model = torch.nn.Sequential(*(list(pre_orig_model.children())[:-2]))\n\n\nclass CSEBlock(nn.Module):\n    \"\"\"\n    Spatial Squeeze and Channel Excitation block\n    ---\n    Channel-wise focus\n\n    Recalibrates the channels by incorporating global\n    spatial information. It provides a receptive field\n    of whole spatial extent at the fc's.\n\n    Assign each channel (feature) of a convolutional\n    block (feature map) a different weightage\n    (excitation) based on how important each channel\n    is (squeeze) instead of equally weighing each\n    feature. This improves channel interdependencies.\n    \"\"\"\n\n    def __init__(self, in_channels, reduction=2):\n        super(CSEBlock, self).__init__()\n        # Global pooling == AdaptiveAvgPool2d\n        self.avg_pool = nn.AdaptiveAvgPool2d(1)\n        self.fc1 = nn.Linear(in_channels, in_channels // reduction)\n        self.relu = nn.ReLU(inplace=True)\n        self.fc2 = nn.Linear(in_channels // reduction, in_channels)\n        self.sigmoid = nn.Sigmoid()\n\n    def forward(self, x):\n        batch_size, num_channels, _, _ = x.size()\n\n        avg_pool_x = self.avg_pool(x).view(batch_size, num_channels)\n\n        y = self.fc1(avg_pool_x)\n        y = self.relu(y)\n        y = self.fc2(y)\n        y = self.sigmoid(y)\n\n        return x * y.view(batch_size, num_channels, 1, 1)\n\n\nclass SSEBlock(nn.Module):\n    \"\"\"\n    Channel Squeeze and Spatial Excitation block\n    ---\n    Spatial-wise focus\n\n    It behaves like a spatial attention map indicating\n    where the network should focus more to aid the\n    segmentation.\n\n    Assign importance to spatial locations sort of\n    telling where features are better to focus\n    instead of reweighing which features are more\n    important.\n    \"\"\"\n\n    def __init__(self, in_channels):\n        super(SSEBlock, self).__init__()\n        # Output channel = 1, 1x1 convolution\n        self.conv = nn.Conv2d(in_channels, 1, 1)\n        self.sigmoid = nn.Sigmoid()\n\n    def forward(self, x):\n        batch_size, num_channels, H, W = x.size()\n\n        y = self.conv(x)\n        y = self.sigmoid(y)\n\n        return x * y.view(batch_size, 1, H, W)\n\n\nclass SCSEBlock(nn.Module):\n    \"\"\"\n    Spatial and Channel Squeeze and Excitation block\n    ---\n    Return the block with the most promising values.\n    \"\"\"\n\n    def __init__(self, in_channels, reduction=2):\n        super(SCSEBlock, self).__init__()\n        self.CSE = CSEBlock(in_channels, reduction)\n        self.SSE = SSEBlock(in_channels)\n\n    def forward(self, x):\n        return torch.max(self.CSE(x), self.SSE(x))\n\n\nclass UpsampBlock(nn.Module):\n    \"\"\"\n    Upsampling block\n    ---\n    Includes SCSEBlock\n    \"\"\"\n\n    def __init__(self, in_channels, out_channels):\n        super(UpsampBlock, self).__init__()\n        self.relu = nn.ReLU(inplace=True)\n        self.bn = nn.BatchNorm2d(out_channels)\n        self.scse = SCSEBlock(in_channels)\n\n    def forward(self, x):\n        y = self.relu(x)\n        y = self.bn(y)\n\n        return self.scse(y)\n\n\nclass NetBlock(nn.Module):\n\n    def __init__(self):\n        super(NetBlock, self).__init__()\n\n        # 3 input image channels, 64 output channels, 7x7 convolution, stride 2\n        # -- Blue --\n        self.blueBlock = torch.nn.Sequential(*(list(pre_model.children())[:3]))\n\n        # -- Green --\n        # maxpooling stride default is kernel size\n        self.resBlock1 = torch.nn.Sequential(*(list(pre_model.children())[3:5]))\n        self.resBlock2 = torch.nn.Sequential(*(list(pre_model.children())[5:6]))\n        self.resBlock3 = torch.nn.Sequential(*(list(pre_model.children())[6:7]))\n        self.resBlock4 = torch.nn.Sequential(*(list(pre_model.children())[7:]))\n\n        # -- Yellow --\n        # 64/128/256 input image channels, 128 output channels, 1x1 convolution, stride 1\n        # Green (residual) block to Yellow block (Up to down)\n        self.conv_blue_to_yel_1 = nn.Conv2d(64, 128, 1, stride=1)\n        self.conv_gr_to_yel_2 = nn.Conv2d(64, 128, 1, stride=1)\n        self.conv_gr_to_yel_3 = nn.Conv2d(128, 128, 1, stride=1)\n        self.conv_gr_to_yel_4 = nn.Conv2d(256, 128, 1, stride=1)\n\n        # -- Purple --\n        # 512 input image channels, 512 output channels, 1x1 convolution, stride 1\n        # Green (residual) block to Purple block\n        self.conv_gr_to_purp = nn.Conv2d(512, 512, 1, stride=1)\n        # Magenta block to Purple block\n        self.conv_mag_to_purp_1 = UpsampBlock(256, 256)\n        self.conv_mag_to_purp_2 = UpsampBlock(256, 256)\n        self.conv_mag_to_purp_3 = UpsampBlock(256, 256)\n        self.conv_mag_to_purp_4 = UpsampBlock(256, 256)\n\n        # -- Magenta --\n        # 512/256 input image channels, 128 output channels, 2x2 convolution, stride 2\n        # Purple (residual) block to Magenta block (Down to up)\n        self.conv_purp_to_mag_1 = nn.ConvTranspose2d(512, 128, 2, stride=2)\n        self.conv_purp_to_mag_2 = nn.ConvTranspose2d(256, 128, 2, stride=2)\n        self.conv_purp_to_mag_3 = nn.ConvTranspose2d(256, 128, 2, stride=2)\n        self.conv_purp_to_mag_4 = nn.ConvTranspose2d(256, 128, 2, stride=2)\n        self.conv_purp_to_mag_5 = nn.ConvTranspose2d(256, 1, 2, stride=2)\n\n    def forward(self, x):\n        # Traverse down the architecture (ResNet34)\n        y = self.blueBlock(x)\n        y_y1 = self.conv_blue_to_yel_1(y)\n\n        y = self.resBlock1(y)\n        y_y2 = self.conv_gr_to_yel_2(y)\n\n        y = self.resBlock2(y)\n        y_y3 = self.conv_gr_to_yel_3(y)\n\n        y = self.resBlock3(y)\n        y_y4 = self.conv_gr_to_yel_4(y)\n\n        y = self.resBlock4(y)\n        y_y5 = self.conv_gr_to_purp(y)\n\n        # Traverse up the U-based architecture\n        y_y5 = self.conv_purp_to_mag_1(y_y5)\n\n        y_y4 = torch.cat((y_y4, y_y5), dim=1)\n        y_y4 = self.conv_mag_to_purp_1(y_y4)\n        y_y4 = self.conv_purp_to_mag_2(y_y4)\n\n        y_y3 = torch.cat((y_y3, y_y4), dim=1)\n        y_y3 = self.conv_mag_to_purp_2(y_y3)\n        y_y3 = self.conv_purp_to_mag_3(y_y3)\n\n        y_y2 = torch.cat((y_y2, y_y3), dim=1)\n        y_y2 = self.conv_mag_to_purp_3(y_y2)\n        y_y2 = self.conv_purp_to_mag_4(y_y2)\n\n        y_y1 = torch.cat((y_y1, y_y2), dim=1)\n        y_y1 = self.conv_mag_to_purp_4(y_y1)\n        \n        return self.conv_purp_to_mag_5(y_y1)\n\n\nnet = NetBlock()\n# print(net)\nsummary(net, input_size=(3, 320, 480))",
      "execution_count": 1,
      "outputs": [
        {
          "name": "stderr",
          "text": "Downloading: \"https://download.pytorch.org/models/resnet34-333f7ec4.pth\" to /root/.cache/torch/hub/checkpoints/resnet34-333f7ec4.pth\n",
          "output_type": "stream"
        },
        {
          "data": {
            "text/plain": "  0%|          | 0.00/83.3M [00:00<?, ?B/s]",
            "application/vnd.jupyter.widget-view+json": {
              "version_major": 2,
              "version_minor": 0,
              "model_id": "fb2b63a2453046bc9626b0b07e4c999a"
            }
          },
          "metadata": {},
          "output_type": "display_data"
        },
        {
          "name": "stderr",
          "text": "/root/venv/lib/python3.8/site-packages/torch/cuda/__init__.py:52: UserWarning: CUDA initialization: Found no NVIDIA driver on your system. Please check that you have an NVIDIA GPU and installed a driver from http://www.nvidia.com/Download/index.aspx (Triggered internally at  /pytorch/c10/cuda/CUDAFunctions.cpp:100.)\n  return torch._C._cuda_getDeviceCount() > 0\n----------------------------------------------------------------\n        Layer (type)               Output Shape         Param #\n================================================================\n            Conv2d-1         [-1, 64, 160, 240]           9,408\n       BatchNorm2d-2         [-1, 64, 160, 240]             128\n              ReLU-3         [-1, 64, 160, 240]               0\n            Conv2d-4        [-1, 128, 160, 240]           8,320\n         MaxPool2d-5          [-1, 64, 80, 120]               0\n            Conv2d-6          [-1, 64, 80, 120]          36,864\n       BatchNorm2d-7          [-1, 64, 80, 120]             128\n              ReLU-8          [-1, 64, 80, 120]               0\n            Conv2d-9          [-1, 64, 80, 120]          36,864\n      BatchNorm2d-10          [-1, 64, 80, 120]             128\n             ReLU-11          [-1, 64, 80, 120]               0\n       BasicBlock-12          [-1, 64, 80, 120]               0\n           Conv2d-13          [-1, 64, 80, 120]          36,864\n      BatchNorm2d-14          [-1, 64, 80, 120]             128\n             ReLU-15          [-1, 64, 80, 120]               0\n           Conv2d-16          [-1, 64, 80, 120]          36,864\n      BatchNorm2d-17          [-1, 64, 80, 120]             128\n             ReLU-18          [-1, 64, 80, 120]               0\n       BasicBlock-19          [-1, 64, 80, 120]               0\n           Conv2d-20          [-1, 64, 80, 120]          36,864\n      BatchNorm2d-21          [-1, 64, 80, 120]             128\n             ReLU-22          [-1, 64, 80, 120]               0\n           Conv2d-23          [-1, 64, 80, 120]          36,864\n      BatchNorm2d-24          [-1, 64, 80, 120]             128\n             ReLU-25          [-1, 64, 80, 120]               0\n       BasicBlock-26          [-1, 64, 80, 120]               0\n           Conv2d-27         [-1, 128, 80, 120]           8,320\n           Conv2d-28          [-1, 128, 40, 60]          73,728\n      BatchNorm2d-29          [-1, 128, 40, 60]             256\n             ReLU-30          [-1, 128, 40, 60]               0\n           Conv2d-31          [-1, 128, 40, 60]         147,456\n      BatchNorm2d-32          [-1, 128, 40, 60]             256\n           Conv2d-33          [-1, 128, 40, 60]           8,192\n      BatchNorm2d-34          [-1, 128, 40, 60]             256\n             ReLU-35          [-1, 128, 40, 60]               0\n       BasicBlock-36          [-1, 128, 40, 60]               0\n           Conv2d-37          [-1, 128, 40, 60]         147,456\n      BatchNorm2d-38          [-1, 128, 40, 60]             256\n             ReLU-39          [-1, 128, 40, 60]               0\n           Conv2d-40          [-1, 128, 40, 60]         147,456\n      BatchNorm2d-41          [-1, 128, 40, 60]             256\n             ReLU-42          [-1, 128, 40, 60]               0\n       BasicBlock-43          [-1, 128, 40, 60]               0\n           Conv2d-44          [-1, 128, 40, 60]         147,456\n      BatchNorm2d-45          [-1, 128, 40, 60]             256\n             ReLU-46          [-1, 128, 40, 60]               0\n           Conv2d-47          [-1, 128, 40, 60]         147,456\n      BatchNorm2d-48          [-1, 128, 40, 60]             256\n             ReLU-49          [-1, 128, 40, 60]               0\n       BasicBlock-50          [-1, 128, 40, 60]               0\n           Conv2d-51          [-1, 128, 40, 60]         147,456\n      BatchNorm2d-52          [-1, 128, 40, 60]             256\n             ReLU-53          [-1, 128, 40, 60]               0\n           Conv2d-54          [-1, 128, 40, 60]         147,456\n      BatchNorm2d-55          [-1, 128, 40, 60]             256\n             ReLU-56          [-1, 128, 40, 60]               0\n       BasicBlock-57          [-1, 128, 40, 60]               0\n           Conv2d-58          [-1, 128, 40, 60]          16,512\n           Conv2d-59          [-1, 256, 20, 30]         294,912\n      BatchNorm2d-60          [-1, 256, 20, 30]             512\n             ReLU-61          [-1, 256, 20, 30]               0\n           Conv2d-62          [-1, 256, 20, 30]         589,824\n      BatchNorm2d-63          [-1, 256, 20, 30]             512\n           Conv2d-64          [-1, 256, 20, 30]          32,768\n      BatchNorm2d-65          [-1, 256, 20, 30]             512\n             ReLU-66          [-1, 256, 20, 30]               0\n       BasicBlock-67          [-1, 256, 20, 30]               0\n           Conv2d-68          [-1, 256, 20, 30]         589,824\n      BatchNorm2d-69          [-1, 256, 20, 30]             512\n             ReLU-70          [-1, 256, 20, 30]               0\n           Conv2d-71          [-1, 256, 20, 30]         589,824\n      BatchNorm2d-72          [-1, 256, 20, 30]             512\n             ReLU-73          [-1, 256, 20, 30]               0\n       BasicBlock-74          [-1, 256, 20, 30]               0\n           Conv2d-75          [-1, 256, 20, 30]         589,824\n      BatchNorm2d-76          [-1, 256, 20, 30]             512\n             ReLU-77          [-1, 256, 20, 30]               0\n           Conv2d-78          [-1, 256, 20, 30]         589,824\n      BatchNorm2d-79          [-1, 256, 20, 30]             512\n             ReLU-80          [-1, 256, 20, 30]               0\n       BasicBlock-81          [-1, 256, 20, 30]               0\n           Conv2d-82          [-1, 256, 20, 30]         589,824\n      BatchNorm2d-83          [-1, 256, 20, 30]             512\n             ReLU-84          [-1, 256, 20, 30]               0\n           Conv2d-85          [-1, 256, 20, 30]         589,824\n      BatchNorm2d-86          [-1, 256, 20, 30]             512\n             ReLU-87          [-1, 256, 20, 30]               0\n       BasicBlock-88          [-1, 256, 20, 30]               0\n           Conv2d-89          [-1, 256, 20, 30]         589,824\n      BatchNorm2d-90          [-1, 256, 20, 30]             512\n             ReLU-91          [-1, 256, 20, 30]               0\n           Conv2d-92          [-1, 256, 20, 30]         589,824\n      BatchNorm2d-93          [-1, 256, 20, 30]             512\n             ReLU-94          [-1, 256, 20, 30]               0\n       BasicBlock-95          [-1, 256, 20, 30]               0\n           Conv2d-96          [-1, 256, 20, 30]         589,824\n      BatchNorm2d-97          [-1, 256, 20, 30]             512\n             ReLU-98          [-1, 256, 20, 30]               0\n           Conv2d-99          [-1, 256, 20, 30]         589,824\n     BatchNorm2d-100          [-1, 256, 20, 30]             512\n            ReLU-101          [-1, 256, 20, 30]               0\n      BasicBlock-102          [-1, 256, 20, 30]               0\n          Conv2d-103          [-1, 128, 20, 30]          32,896\n          Conv2d-104          [-1, 512, 10, 15]       1,179,648\n     BatchNorm2d-105          [-1, 512, 10, 15]           1,024\n            ReLU-106          [-1, 512, 10, 15]               0\n          Conv2d-107          [-1, 512, 10, 15]       2,359,296\n     BatchNorm2d-108          [-1, 512, 10, 15]           1,024\n          Conv2d-109          [-1, 512, 10, 15]         131,072\n     BatchNorm2d-110          [-1, 512, 10, 15]           1,024\n            ReLU-111          [-1, 512, 10, 15]               0\n      BasicBlock-112          [-1, 512, 10, 15]               0\n          Conv2d-113          [-1, 512, 10, 15]       2,359,296\n     BatchNorm2d-114          [-1, 512, 10, 15]           1,024\n            ReLU-115          [-1, 512, 10, 15]               0\n          Conv2d-116          [-1, 512, 10, 15]       2,359,296\n     BatchNorm2d-117          [-1, 512, 10, 15]           1,024\n            ReLU-118          [-1, 512, 10, 15]               0\n      BasicBlock-119          [-1, 512, 10, 15]               0\n          Conv2d-120          [-1, 512, 10, 15]       2,359,296\n     BatchNorm2d-121          [-1, 512, 10, 15]           1,024\n            ReLU-122          [-1, 512, 10, 15]               0\n          Conv2d-123          [-1, 512, 10, 15]       2,359,296\n     BatchNorm2d-124          [-1, 512, 10, 15]           1,024\n            ReLU-125          [-1, 512, 10, 15]               0\n      BasicBlock-126          [-1, 512, 10, 15]               0\n          Conv2d-127          [-1, 512, 10, 15]         262,656\n ConvTranspose2d-128          [-1, 128, 20, 30]         262,272\n            ReLU-129          [-1, 256, 20, 30]               0\n     BatchNorm2d-130          [-1, 256, 20, 30]             512\nAdaptiveAvgPool2d-131            [-1, 256, 1, 1]               0\n          Linear-132                  [-1, 128]          32,896\n            ReLU-133                  [-1, 128]               0\n          Linear-134                  [-1, 256]          33,024\n         Sigmoid-135                  [-1, 256]               0\n        CSEBlock-136          [-1, 256, 20, 30]               0\n          Conv2d-137            [-1, 1, 20, 30]             257\n         Sigmoid-138            [-1, 1, 20, 30]               0\n        SSEBlock-139          [-1, 256, 20, 30]               0\n       SCSEBlock-140          [-1, 256, 20, 30]               0\n     UpsampBlock-141          [-1, 256, 20, 30]               0\n ConvTranspose2d-142          [-1, 128, 40, 60]         131,200\n            ReLU-143          [-1, 256, 40, 60]               0\n     BatchNorm2d-144          [-1, 256, 40, 60]             512\nAdaptiveAvgPool2d-145            [-1, 256, 1, 1]               0\n          Linear-146                  [-1, 128]          32,896\n            ReLU-147                  [-1, 128]               0\n          Linear-148                  [-1, 256]          33,024\n         Sigmoid-149                  [-1, 256]               0\n        CSEBlock-150          [-1, 256, 40, 60]               0\n          Conv2d-151            [-1, 1, 40, 60]             257\n         Sigmoid-152            [-1, 1, 40, 60]               0\n        SSEBlock-153          [-1, 256, 40, 60]               0\n       SCSEBlock-154          [-1, 256, 40, 60]               0\n     UpsampBlock-155          [-1, 256, 40, 60]               0\n ConvTranspose2d-156         [-1, 128, 80, 120]         131,200\n            ReLU-157         [-1, 256, 80, 120]               0\n     BatchNorm2d-158         [-1, 256, 80, 120]             512\nAdaptiveAvgPool2d-159            [-1, 256, 1, 1]               0\n          Linear-160                  [-1, 128]          32,896\n            ReLU-161                  [-1, 128]               0\n          Linear-162                  [-1, 256]          33,024\n         Sigmoid-163                  [-1, 256]               0\n        CSEBlock-164         [-1, 256, 80, 120]               0\n          Conv2d-165           [-1, 1, 80, 120]             257\n         Sigmoid-166           [-1, 1, 80, 120]               0\n        SSEBlock-167         [-1, 256, 80, 120]               0\n       SCSEBlock-168         [-1, 256, 80, 120]               0\n     UpsampBlock-169         [-1, 256, 80, 120]               0\n ConvTranspose2d-170        [-1, 128, 160, 240]         131,200\n            ReLU-171        [-1, 256, 160, 240]               0\n     BatchNorm2d-172        [-1, 256, 160, 240]             512\nAdaptiveAvgPool2d-173            [-1, 256, 1, 1]               0\n          Linear-174                  [-1, 128]          32,896\n            ReLU-175                  [-1, 128]               0\n          Linear-176                  [-1, 256]          33,024\n         Sigmoid-177                  [-1, 256]               0\n        CSEBlock-178        [-1, 256, 160, 240]               0\n          Conv2d-179          [-1, 1, 160, 240]             257\n         Sigmoid-180          [-1, 1, 160, 240]               0\n        SSEBlock-181        [-1, 256, 160, 240]               0\n       SCSEBlock-182        [-1, 256, 160, 240]               0\n     UpsampBlock-183        [-1, 256, 160, 240]               0\n ConvTranspose2d-184          [-1, 1, 320, 480]           1,025\n================================================================\nTotal params: 22,537,029\nTrainable params: 22,537,029\nNon-trainable params: 0\n----------------------------------------------------------------\nInput size (MB): 1.76\nForward/backward pass size (MB): 994.56\nParams size (MB): 85.97\nEstimated Total Size (MB): 1082.29\n----------------------------------------------------------------\n",
          "output_type": "stream"
        }
      ]
    },
    {
      "cell_type": "code",
      "source": "# pre_orig_model\n# summary(pre_orig_model, input_size=(3, 320, 480))\n\nfor i in pre_orig_model.state_dict():\n    print(i)",
      "metadata": {
        "tags": [],
        "cell_id": "00002-e98cc70d-30b9-4c62-9d6b-0fb148d66cc0",
        "deepnote_to_be_reexecuted": false,
        "source_hash": "fa6ac64a",
        "execution_millis": 61,
        "execution_start": 1616666463649,
        "deepnote_cell_type": "code"
      },
      "outputs": [
        {
          "name": "stdout",
          "text": "conv1.weight\nbn1.weight\nbn1.bias\nbn1.running_mean\nbn1.running_var\nbn1.num_batches_tracked\nlayer1.0.conv1.weight\nlayer1.0.bn1.weight\nlayer1.0.bn1.bias\nlayer1.0.bn1.running_mean\nlayer1.0.bn1.running_var\nlayer1.0.bn1.num_batches_tracked\nlayer1.0.conv2.weight\nlayer1.0.bn2.weight\nlayer1.0.bn2.bias\nlayer1.0.bn2.running_mean\nlayer1.0.bn2.running_var\nlayer1.0.bn2.num_batches_tracked\nlayer1.1.conv1.weight\nlayer1.1.bn1.weight\nlayer1.1.bn1.bias\nlayer1.1.bn1.running_mean\nlayer1.1.bn1.running_var\nlayer1.1.bn1.num_batches_tracked\nlayer1.1.conv2.weight\nlayer1.1.bn2.weight\nlayer1.1.bn2.bias\nlayer1.1.bn2.running_mean\nlayer1.1.bn2.running_var\nlayer1.1.bn2.num_batches_tracked\nlayer1.2.conv1.weight\nlayer1.2.bn1.weight\nlayer1.2.bn1.bias\nlayer1.2.bn1.running_mean\nlayer1.2.bn1.running_var\nlayer1.2.bn1.num_batches_tracked\nlayer1.2.conv2.weight\nlayer1.2.bn2.weight\nlayer1.2.bn2.bias\nlayer1.2.bn2.running_mean\nlayer1.2.bn2.running_var\nlayer1.2.bn2.num_batches_tracked\nlayer2.0.conv1.weight\nlayer2.0.bn1.weight\nlayer2.0.bn1.bias\nlayer2.0.bn1.running_mean\nlayer2.0.bn1.running_var\nlayer2.0.bn1.num_batches_tracked\nlayer2.0.conv2.weight\nlayer2.0.bn2.weight\nlayer2.0.bn2.bias\nlayer2.0.bn2.running_mean\nlayer2.0.bn2.running_var\nlayer2.0.bn2.num_batches_tracked\nlayer2.0.downsample.0.weight\nlayer2.0.downsample.1.weight\nlayer2.0.downsample.1.bias\nlayer2.0.downsample.1.running_mean\nlayer2.0.downsample.1.running_var\nlayer2.0.downsample.1.num_batches_tracked\nlayer2.1.conv1.weight\nlayer2.1.bn1.weight\nlayer2.1.bn1.bias\nlayer2.1.bn1.running_mean\nlayer2.1.bn1.running_var\nlayer2.1.bn1.num_batches_tracked\nlayer2.1.conv2.weight\nlayer2.1.bn2.weight\nlayer2.1.bn2.bias\nlayer2.1.bn2.running_mean\nlayer2.1.bn2.running_var\nlayer2.1.bn2.num_batches_tracked\nlayer2.2.conv1.weight\nlayer2.2.bn1.weight\nlayer2.2.bn1.bias\nlayer2.2.bn1.running_mean\nlayer2.2.bn1.running_var\nlayer2.2.bn1.num_batches_tracked\nlayer2.2.conv2.weight\nlayer2.2.bn2.weight\nlayer2.2.bn2.bias\nlayer2.2.bn2.running_mean\nlayer2.2.bn2.running_var\nlayer2.2.bn2.num_batches_tracked\nlayer2.3.conv1.weight\nlayer2.3.bn1.weight\nlayer2.3.bn1.bias\nlayer2.3.bn1.running_mean\nlayer2.3.bn1.running_var\nlayer2.3.bn1.num_batches_tracked\nlayer2.3.conv2.weight\nlayer2.3.bn2.weight\nlayer2.3.bn2.bias\nlayer2.3.bn2.running_mean\nlayer2.3.bn2.running_var\nlayer2.3.bn2.num_batches_tracked\nlayer3.0.conv1.weight\nlayer3.0.bn1.weight\nlayer3.0.bn1.bias\nlayer3.0.bn1.running_mean\nlayer3.0.bn1.running_var\nlayer3.0.bn1.num_batches_tracked\nlayer3.0.conv2.weight\nlayer3.0.bn2.weight\nlayer3.0.bn2.bias\nlayer3.0.bn2.running_mean\nlayer3.0.bn2.running_var\nlayer3.0.bn2.num_batches_tracked\nlayer3.0.downsample.0.weight\nlayer3.0.downsample.1.weight\nlayer3.0.downsample.1.bias\nlayer3.0.downsample.1.running_mean\nlayer3.0.downsample.1.running_var\nlayer3.0.downsample.1.num_batches_tracked\nlayer3.1.conv1.weight\nlayer3.1.bn1.weight\nlayer3.1.bn1.bias\nlayer3.1.bn1.running_mean\nlayer3.1.bn1.running_var\nlayer3.1.bn1.num_batches_tracked\nlayer3.1.conv2.weight\nlayer3.1.bn2.weight\nlayer3.1.bn2.bias\nlayer3.1.bn2.running_mean\nlayer3.1.bn2.running_var\nlayer3.1.bn2.num_batches_tracked\nlayer3.2.conv1.weight\nlayer3.2.bn1.weight\nlayer3.2.bn1.bias\nlayer3.2.bn1.running_mean\nlayer3.2.bn1.running_var\nlayer3.2.bn1.num_batches_tracked\nlayer3.2.conv2.weight\nlayer3.2.bn2.weight\nlayer3.2.bn2.bias\nlayer3.2.bn2.running_mean\nlayer3.2.bn2.running_var\nlayer3.2.bn2.num_batches_tracked\nlayer3.3.conv1.weight\nlayer3.3.bn1.weight\nlayer3.3.bn1.bias\nlayer3.3.bn1.running_mean\nlayer3.3.bn1.running_var\nlayer3.3.bn1.num_batches_tracked\nlayer3.3.conv2.weight\nlayer3.3.bn2.weight\nlayer3.3.bn2.bias\nlayer3.3.bn2.running_mean\nlayer3.3.bn2.running_var\nlayer3.3.bn2.num_batches_tracked\nlayer3.4.conv1.weight\nlayer3.4.bn1.weight\nlayer3.4.bn1.bias\nlayer3.4.bn1.running_mean\nlayer3.4.bn1.running_var\nlayer3.4.bn1.num_batches_tracked\nlayer3.4.conv2.weight\nlayer3.4.bn2.weight\nlayer3.4.bn2.bias\nlayer3.4.bn2.running_mean\nlayer3.4.bn2.running_var\nlayer3.4.bn2.num_batches_tracked\nlayer3.5.conv1.weight\nlayer3.5.bn1.weight\nlayer3.5.bn1.bias\nlayer3.5.bn1.running_mean\nlayer3.5.bn1.running_var\nlayer3.5.bn1.num_batches_tracked\nlayer3.5.conv2.weight\nlayer3.5.bn2.weight\nlayer3.5.bn2.bias\nlayer3.5.bn2.running_mean\nlayer3.5.bn2.running_var\nlayer3.5.bn2.num_batches_tracked\nlayer4.0.conv1.weight\nlayer4.0.bn1.weight\nlayer4.0.bn1.bias\nlayer4.0.bn1.running_mean\nlayer4.0.bn1.running_var\nlayer4.0.bn1.num_batches_tracked\nlayer4.0.conv2.weight\nlayer4.0.bn2.weight\nlayer4.0.bn2.bias\nlayer4.0.bn2.running_mean\nlayer4.0.bn2.running_var\nlayer4.0.bn2.num_batches_tracked\nlayer4.0.downsample.0.weight\nlayer4.0.downsample.1.weight\nlayer4.0.downsample.1.bias\nlayer4.0.downsample.1.running_mean\nlayer4.0.downsample.1.running_var\nlayer4.0.downsample.1.num_batches_tracked\nlayer4.1.conv1.weight\nlayer4.1.bn1.weight\nlayer4.1.bn1.bias\nlayer4.1.bn1.running_mean\nlayer4.1.bn1.running_var\nlayer4.1.bn1.num_batches_tracked\nlayer4.1.conv2.weight\nlayer4.1.bn2.weight\nlayer4.1.bn2.bias\nlayer4.1.bn2.running_mean\nlayer4.1.bn2.running_var\nlayer4.1.bn2.num_batches_tracked\nlayer4.2.conv1.weight\nlayer4.2.bn1.weight\nlayer4.2.bn1.bias\nlayer4.2.bn1.running_mean\nlayer4.2.bn1.running_var\nlayer4.2.bn1.num_batches_tracked\nlayer4.2.conv2.weight\nlayer4.2.bn2.weight\nlayer4.2.bn2.bias\nlayer4.2.bn2.running_mean\nlayer4.2.bn2.running_var\nlayer4.2.bn2.num_batches_tracked\nfc.weight\nfc.bias\n",
          "output_type": "stream"
        }
      ],
      "execution_count": 7
    },
    {
      "cell_type": "code",
      "metadata": {
        "tags": [],
        "cell_id": "00002-be99499f-61a3-432a-8221-af177c0977ff",
        "deepnote_to_be_reexecuted": false,
        "source_hash": "13f08aca",
        "execution_millis": 487,
        "execution_start": 1616520393139,
        "deepnote_cell_type": "code"
      },
      "source": "# Sjoerd\nimport os, sys\nsys.path.append(os.path.join(os.path.dirname(os.path.abspath(\"\")), '..'))\n\n\nfrom work.CFD.data import CFD\nfrom torch.utils.data import random_split\nfrom torch.utils.data import DataLoader\nfrom torchvision import transforms\nimport matplotlib.pyplot as plt\nimport torch\n\n\ntotensor = transforms.ToTensor()\ndataset = CFD(\"../CFD/cfd_image\", totensor, \"../CFD/seg_gt\", totensor)\ngen = torch.Generator().manual_seed(42)\ntrain_data, test_data = random_split(dataset, [71, 47], gen)\n\ntrain_loader = DataLoader(train_data, batch_size=10)\ntest_loader = DataLoader(test_data, batch_size=47)\n\n\n# fig, axs = plt.subplots(5, 5, figsize=(5, 5))\n# for i in range(25):\n#     _, gt = test_data[i]\n#     ax = axs[i // 5][i % 5]\n#     ax.imshow(gt.view(320, 480), cmap=\"gray\")\n#     ax.axis(\"off\")\n# plt.tight_layout()\n# plt.show()\n\n",
      "execution_count": null,
      "outputs": []
    },
    {
      "cell_type": "code",
      "metadata": {
        "tags": [],
        "cell_id": "00002-e2710f7c-baa2-4d2b-a86a-21acc785505c",
        "deepnote_to_be_reexecuted": false,
        "source_hash": "5444121b",
        "execution_millis": 0,
        "execution_start": 1616520393635,
        "deepnote_cell_type": "code"
      },
      "source": "def batch_dice_loss(true_val, pred_val, epsilon = 1e-8):\n    \"\"\"\n    Dice coefficient loss\n    ---\n    Equivalent to F1 score. Often used when there is\n    imbalance in dataset (non-crack pixels outnumber \n    crack pixels by 65:1). \n    \n    Args:\n        true_val: a tensor of shape [N, 1, H, W]\n        predicted_val: a tensor of shape [N, 1, H, W]\n    Returns:\n        dice_loss: the Dice loss.\n    \"\"\"\n    # Sigmoid -> [0, 1], reflect probabilities\n    pred_val = (torch.sigmoid(pred_val) >= 0.5).float()\n\n    # Flattened from [N, 1, H, W] to [N, H*W]\n    true_val = true_val.flatten(start_dim=1)\n    pred_val = pred_val.flatten(start_dim=1)\n\n    numerator = 2. * (pred_val * true_val).sum(dim=1)\n    denominator = (pred_val).sum(dim=1) + (true_val).sum(dim=1)\n\n    return torch.mean(1 - ((numerator + epsilon) / (denominator + epsilon)))\n\n\n# def dice_loss(true_val, pred_val, epsilon = 1e-8):\n#     \"\"\"\n#     Dice coefficient loss\n#     ---\n#     Equivalent to F1 score. Often used when there is\n#     imbalance in dataset (non-crack pixels outnumber \n#     crack pixels by 65:1). \n    \n#     Args:\n#         true_val: a tensor of shape [N, 1, H, W]\n#         predicted_val: a tensor of shape [N, 1, H, W]\n#     Returns:\n#         dice_loss: the Dice loss.\n#     \"\"\"\n#     # Sigmoid -> [0, 1], reflect probabilities\n#     pred_val = (torch.sigmoid(pred_val) >= 0.5).float()\n\n#     # Flattened from [H, W] to [H*W]\n#     true_val = true_val.flatten()\n#     pred_val = pred_val.flatten()\n\n#     numerator = 2. * (pred_val * true_val).sum()\n#     denominator = (pred_val).sum() + (true_val).sum()\n\n#     return torch.mean(1 - ((numerator + epsilon) / (denominator + epsilon)))\n\n\n# prediction = torch.randint(low=-255, high=256, size=(3, 3), dtype=torch.float)\n\n\n# pred_is_truth = (prediction >= 0).float()\n# pred_is_false = (prediction < 0).float()\n# pred_is_half = torch.flip(pred_is_truth, [0, 1])\n\n# print(pred_is_truth, \"\\n\\n\", pred_is_false, \"\\n\\n\", pred_is_half)\n\n# print(f\"different tensors should output 1: {dice_loss(pred_is_false, prediction)}\")\n# print(f\"the opposite tensors should output 0: {dice_loss(pred_is_truth, prediction)}\")\n# print(f\"the avg tensors should output [0,1]: {dice_loss(pred_is_half, prediction)}\")",
      "execution_count": null,
      "outputs": []
    },
    {
      "cell_type": "code",
      "metadata": {
        "tags": [],
        "cell_id": "00004-7428292d-49f2-411d-8364-8347593a3c9e",
        "deepnote_to_be_reexecuted": false,
        "source_hash": "d3235d1a",
        "execution_millis": 7,
        "execution_start": 1616520393640,
        "deepnote_cell_type": "code"
      },
      "source": "# Some functions used during training\n\ndef try_gpu():\n    \"\"\"\n    If GPU is available, return torch.device as cuda:0; else return torch.device\n    as cpu.\n    \"\"\"\n    if torch.cuda.is_available():\n        device = torch.device('cuda:0')\n    else:\n        device = torch.device('cpu')\n    return device\n\n\ndef evaluate_accuracy(data_loader, net, device=torch.device('cpu')):\n    \"\"\"Evaluate accuracy of a model on the given data set.\"\"\"\n    net.eval()  #make sure network is in evaluation mode\n\n    #init\n    acc_sum = torch.tensor([0], dtype=torch.float32, device=device)\n    n = 0\n\n    for X, y in data_loader:\n        # Copy the data to device.\n        X, y = X.to(device), y.to(device)\n        with torch.no_grad():\n            y = y.long()\n            acc_sum += torch.sum((torch.argmax(net(X), dim=1) == y))\n            n += y.shape[0] #increases with the number of samples in the batch\n    return acc_sum.item()/n\n",
      "execution_count": null,
      "outputs": []
    },
    {
      "cell_type": "code",
      "metadata": {
        "tags": [],
        "cell_id": "00004-a65cc30d-dddc-41df-9d94-28845042d191",
        "deepnote_to_be_reexecuted": false,
        "source_hash": "ca9db316",
        "execution_millis": 495,
        "execution_start": 1616520393648,
        "deepnote_cell_type": "code"
      },
      "source": "# training parameters\nlr = 1e-3\nepochs = 1\n\n#Initialize network\nnet = NetBlock()\noptimizer = torch.optim.AdamW(net.parameters(), lr=lr, betas=(0.9, 0.999))\ncriterion = batch_dice_loss\n\n# Define list to store losses and performances of each interation\ntrain_losses = []\ntrain_accs = []\ntest_accs = []\n\n# Try using gpu instead of cpu\ndevice = try_gpu()\n\nfor epoch in range(epochs):\n\n    # Network in training mode and to device\n    net.train()\n    net.to(device)\n\n    # Training loop\n    for i, (x_batch, y_batch) in enumerate(train_loader):\n\n         # Set to same device\n         x_batch, y_batch = x_batch.to(device), y_batch.to(device)\n\n         # Set the gradients to zero\n         optimizer.zero_grad()\n\n         # Perform forward pass\n         y_pred = net(x_batch)\n\n         # Compute the loss\n         loss = criterion(y_pred, y_batch)\n         train_losses.append(loss)\n\n         # Backward computation and update\n         loss.backward()\n         optimizer.step()\n    \n    # Compute train and test error\n    train_acc = 100*evaluate_accuracy(train_loader, net.to('cpu'))\n    test_acc = 100*evaluate_accuracy(test_loader, net.to('cpu'))\n    \n    # Development of performance\n    train_accs.append(train_acc)\n    test_accs.append(test_acc)\n\n    # Print performance\n    print('Epoch: {:.0f}'.format(epoch+1))\n    print('Accuracy of train set: {:.00f}%'.format(train_acc))\n    print('Accuracy of test set: {:.00f}%'.format(test_acc))\n    print('')\n",
      "execution_count": null,
      "outputs": [
        {
          "output_type": "error",
          "ename": "NameError",
          "evalue": "name 'NetBlock' is not defined",
          "traceback": [
            "\u001b[0;31m---------------------------------------------------------------------------\u001b[0m",
            "\u001b[0;31mNameError\u001b[0m                                 Traceback (most recent call last)",
            "\u001b[0;32m<ipython-input-1-e23c5db5d5ef>\u001b[0m in \u001b[0;36m<module>\u001b[0;34m\u001b[0m\n\u001b[1;32m      4\u001b[0m \u001b[0;34m\u001b[0m\u001b[0m\n\u001b[1;32m      5\u001b[0m \u001b[0;31m#Initialize network\u001b[0m\u001b[0;34m\u001b[0m\u001b[0;34m\u001b[0m\u001b[0;34m\u001b[0m\u001b[0m\n\u001b[0;32m----> 6\u001b[0;31m \u001b[0mnet\u001b[0m \u001b[0;34m=\u001b[0m \u001b[0mNetBlock\u001b[0m\u001b[0;34m(\u001b[0m\u001b[0;34m)\u001b[0m\u001b[0;34m\u001b[0m\u001b[0;34m\u001b[0m\u001b[0m\n\u001b[0m\u001b[1;32m      7\u001b[0m \u001b[0moptimizer\u001b[0m \u001b[0;34m=\u001b[0m \u001b[0mtorch\u001b[0m\u001b[0;34m.\u001b[0m\u001b[0moptim\u001b[0m\u001b[0;34m.\u001b[0m\u001b[0mAdamW\u001b[0m\u001b[0;34m(\u001b[0m\u001b[0mnet\u001b[0m\u001b[0;34m.\u001b[0m\u001b[0mparameters\u001b[0m\u001b[0;34m(\u001b[0m\u001b[0;34m)\u001b[0m\u001b[0;34m,\u001b[0m \u001b[0mlr\u001b[0m\u001b[0;34m=\u001b[0m\u001b[0mlr\u001b[0m\u001b[0;34m,\u001b[0m \u001b[0mbetas\u001b[0m\u001b[0;34m=\u001b[0m\u001b[0;34m(\u001b[0m\u001b[0;36m0.9\u001b[0m\u001b[0;34m,\u001b[0m \u001b[0;36m0.999\u001b[0m\u001b[0;34m)\u001b[0m\u001b[0;34m)\u001b[0m\u001b[0;34m\u001b[0m\u001b[0;34m\u001b[0m\u001b[0m\n\u001b[1;32m      8\u001b[0m \u001b[0mcriterion\u001b[0m \u001b[0;34m=\u001b[0m \u001b[0mdice_loss\u001b[0m\u001b[0;34m\u001b[0m\u001b[0;34m\u001b[0m\u001b[0m\n",
            "\u001b[0;31mNameError\u001b[0m: name 'NetBlock' is not defined"
          ]
        },
        {
          "output_type": "error",
          "ename": "KernelInterrupted",
          "evalue": "Execution interrupted by the Jupyter kernel.",
          "traceback": [
            "\u001b[0;31m---------------------------------------------------------------------------\u001b[0m",
            "\u001b[0;31mKernelInterrupted\u001b[0m: Execution interrupted by the Jupyter kernel."
          ]
        },
        {
          "output_type": "error",
          "ename": "KernelInterrupted",
          "evalue": "Execution interrupted by the Jupyter kernel.",
          "traceback": [
            "\u001b[0;31m---------------------------------------------------------------------------\u001b[0m",
            "\u001b[0;31mKernelInterrupted\u001b[0m: Execution interrupted by the Jupyter kernel."
          ]
        },
        {
          "output_type": "error",
          "ename": "KernelInterrupted",
          "evalue": "Execution interrupted by the Jupyter kernel.",
          "traceback": [
            "\u001b[0;31m---------------------------------------------------------------------------\u001b[0m",
            "\u001b[0;31mKernelInterrupted\u001b[0m: Execution interrupted by the Jupyter kernel."
          ]
        },
        {
          "output_type": "error",
          "ename": "KernelInterrupted",
          "evalue": "Execution interrupted by the Jupyter kernel.",
          "traceback": [
            "\u001b[0;31m---------------------------------------------------------------------------\u001b[0m",
            "\u001b[0;31mKernelInterrupted\u001b[0m: Execution interrupted by the Jupyter kernel."
          ]
        },
        {
          "output_type": "error",
          "ename": "KernelInterrupted",
          "evalue": "Execution interrupted by the Jupyter kernel.",
          "traceback": [
            "\u001b[0;31m---------------------------------------------------------------------------\u001b[0m",
            "\u001b[0;31mKernelInterrupted\u001b[0m: Execution interrupted by the Jupyter kernel."
          ]
        },
        {
          "output_type": "error",
          "ename": "KernelInterrupted",
          "evalue": "Execution interrupted by the Jupyter kernel.",
          "traceback": [
            "\u001b[0;31m---------------------------------------------------------------------------\u001b[0m",
            "\u001b[0;31mKernelInterrupted\u001b[0m: Execution interrupted by the Jupyter kernel."
          ]
        }
      ]
    },
    {
      "cell_type": "code",
      "metadata": {
        "tags": [],
        "cell_id": "00002-ee16a739-e3a0-4689-a9ed-33c171733c59",
        "deepnote_to_be_reexecuted": true,
        "source_hash": "7be1a9b6",
        "execution_millis": 1,
        "output_cleared": true,
        "deepnote_cell_type": "code"
      },
      "source": "# from torchviz import make_dot\n\n# x = torch.randn(1,3, 320, 480)\n# y = net(x) \n\n# make_dot(y).view()",
      "execution_count": null,
      "outputs": []
    },
    {
      "cell_type": "markdown",
      "source": "<a style='text-decoration:none;line-height:16px;display:flex;color:#5B5B62;padding:10px;justify-content:end;' href='https://deepnote.com?utm_source=created-in-deepnote-cell&projectId=411d58e9-cb4b-4924-bef0-2f383eff0187' target=\"_blank\">\n<img style='display:inline;max-height:16px;margin:0px;margin-right:7.5px;' src='data:image/svg+xml;base64,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' > </img>\nCreated in <span style='font-weight:600;margin-left:4px;'>Deepnote</span></a>",
      "metadata": {
        "tags": [],
        "created_in_deepnote_cell": true,
        "deepnote_cell_type": "markdown"
      }
    }
  ],
  "nbformat": 4,
  "nbformat_minor": 2,
  "metadata": {
    "orig_nbformat": 2,
    "deepnote_notebook_id": "96775278-d606-4bc7-a96c-64fcdaf37c69",
    "deepnote": {},
    "deepnote_execution_queue": []
  }
}